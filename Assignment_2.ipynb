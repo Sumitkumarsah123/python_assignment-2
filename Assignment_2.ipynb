{
 "cells": [
  {
   "cell_type": "markdown",
   "metadata": {},
   "source": [
    "# Name: Sumit Kumar Sah\n",
    "# Roll: 39\n",
    "# Group: CS(2nd year/2nd sem)\n",
    "\n"
   ]
  },
  {
   "cell_type": "code",
   "execution_count": null,
   "metadata": {},
   "outputs": [],
   "source": []
  },
  {
   "cell_type": "code",
   "execution_count": null,
   "metadata": {},
   "outputs": [],
   "source": []
  },
  {
   "cell_type": "markdown",
   "metadata": {},
   "source": [
    "## Qn1. Implement the Bisection Method to approximate the root of the equation $ 𝑥^2= 𝑠𝑖𝑛𝑥 $ by taking the initial guesses 𝑎 = 0.5 𝑎𝑛𝑑 𝑏 = 1.0. (Algorithm: 𝒙𝟎 =(𝒂+𝒃)/2)\n"
   ]
  },
  {
   "cell_type": "code",
   "execution_count": 3,
   "metadata": {},
   "outputs": [
    {
     "name": "stdout",
     "output_type": "stream",
     "text": [
      "+-------+-------------+--------------+---------+\n",
      "|     a |           b |          mid |  f(mid) |\n",
      "+-------+-------------+--------------+---------+\n",
      "|   0.5 |         1.0 |         0.75 | -0.1191 |\n",
      "|  0.75 |         1.0 |        0.875 | -0.0019 |\n",
      "| 0.875 |         1.0 |       0.9375 |  0.0728 |\n",
      "| 0.875 |      0.9375 |      0.90625 |  0.0341 |\n",
      "| 0.875 |     0.90625 |     0.890625 |  0.0157 |\n",
      "| 0.875 |    0.890625 |    0.8828125 |  0.0068 |\n",
      "| 0.875 |   0.8828125 |   0.87890625 |  0.0024 |\n",
      "| 0.875 |  0.87890625 |  0.876953125 |  0.0003 |\n",
      "| 0.875 | 0.876953125 | 0.8759765625 | -0.0008 |\n",
      "+-------+-------------+--------------+---------+\n"
     ]
    }
   ],
   "source": [
    "import numpy as np\n",
    "import math\n",
    "from prettytable import PrettyTable\n",
    "\n",
    "\n",
    "def bisection(fn, a=0, b=100, error=0.001):\n",
    "\n",
    " # Check for correct intervals:\n",
    "    if fn(a) * fn(b) > 0:\n",
    "        return \"Please choose another values for a and b\"\n",
    "\n",
    " # creation of table\n",
    "    table = PrettyTable([\"a\", \"b\", \"mid\", \"f(mid)\"])\n",
    "    table.align = 'r'\n",
    "\n",
    " # Variable Declarations:\n",
    "    mid = int()\n",
    "\n",
    " # Bisection:\n",
    "    while True:\n",
    "         prev_mid = mid\n",
    "         mid = (a + b) / 2\n",
    "         table.add_row([a, b, mid, round(fn(mid), 4)])\n",
    "\n",
    "         if abs(mid - prev_mid) < error:\n",
    "             return table\n",
    "         elif fn(mid) > 0:\n",
    "             b = mid\n",
    "         else:\n",
    "             a = mid\n",
    "def function(x):\n",
    "    return x**2 - np.sin(x)\n",
    "print(bisection(function, a=0.5, b=1.0))"
   ]
  },
  {
   "cell_type": "markdown",
   "metadata": {},
   "source": [
    " ## Qn.2) Implement the Newton-Raphson’s Method to approximate the root of the equation $𝑒^𝑥 = 4𝑥$ by taking the initial guess 𝑥0 = 1.0 (Algorithm: $ 𝒙𝟏 = 𝒙𝟎 −\\frac{𝒇(x0)}{f'(x)} $"
   ]
  },
  {
   "cell_type": "code",
   "execution_count": 9,
   "metadata": {},
   "outputs": [
    {
     "name": "stdout",
     "output_type": "stream",
     "text": [
      "           x          f(x)\n",
      "0   1.000000 -1.281718e+00\n",
      "1   0.000000  1.000000e+00\n",
      "2   0.250000  2.840254e-01\n",
      "3   0.327202  7.827382e-02\n",
      "4   0.349275  2.093944e-02\n",
      "5   0.355250  5.538488e-03\n",
      "6   0.356835  1.460069e-03\n",
      "7   0.357253  3.845598e-04\n",
      "8   0.357364  1.012629e-04\n",
      "9   0.357393  2.666303e-05\n",
      "10  0.357400  7.020394e-06\n",
      "11  0.357402  1.848466e-06\n",
      "12  0.357403  4.866997e-07\n",
      "13  0.357403  1.281476e-07\n",
      "14  0.357403  3.374115e-08\n",
      "15  0.357403  8.884013e-09\n",
      "16  0.357403  2.339152e-09\n",
      "17  0.357403  6.158967e-10\n",
      "18  0.357403  1.621649e-10\n",
      "19  0.357403  4.269807e-11\n",
      "20  0.357403  1.124234e-11\n",
      "21  0.357403  2.960077e-12\n",
      "22  0.357403  7.793766e-13\n",
      "23  0.357403  2.051692e-13\n",
      "24  0.357403  5.417888e-14\n",
      "25  0.357403  1.421085e-14\n",
      "26  0.357403  3.774758e-15\n",
      "27  0.357403  1.110223e-15\n",
      "28  0.357403  2.220446e-16\n",
      "29  0.357403  0.000000e+00\n",
      "The root of equation is: 0.3574029561813889\n"
     ]
    }
   ],
   "source": [
    "from math import exp\n",
    "import pandas\n",
    "\n",
    "def f(x):\n",
    "    return exp(x) - 4*x\n",
    "def df(x):\n",
    "    return x*exp(x) - 4\n",
    "\n",
    "# define newton-raphson method that takes initial guess(x) as parameter\n",
    "def newton_raphson_method(x):\n",
    "    x_list=[]\n",
    "    y_list=[]\n",
    "    \n",
    "    while True:\n",
    "        x_list.append(x)\n",
    "        y_list.append(f(x))\n",
    "        \n",
    "        if f(x) == 0.0:\n",
    "            break\n",
    "        x = x - f(x)/df(x)\n",
    "    \n",
    "    dframe=pandas.DataFrame()\n",
    "    dframe[\"x\"]=x_list\n",
    "    dframe[\"f(x)\"]=y_list\n",
    "    print(dframe)\n",
    "    print(\"The root of equation is:\", x)\n",
    "\n",
    "# main function\n",
    "if __name__ == \"__main__\":\n",
    "    x = 1.0\n",
    "    newton_raphson_method(x)\n"
   ]
  },
  {
   "cell_type": "markdown",
   "metadata": {},
   "source": [
    "## Qn.3) Construct the finite difference table of the function $𝑓(𝑥) = 𝑒^𝑥$ on the interval −1 ≤ 𝑥 ≤ 1 by dividing the interval by equally space points of step-size 0.1"
   ]
  },
  {
   "cell_type": "code",
   "execution_count": 4,
   "metadata": {},
   "outputs": [
    {
     "name": "stdout",
     "output_type": "stream",
     "text": [
      "+--------+--------+--------+--------+---------+---------+---------+---------+---------+---------+---------+\n",
      "|      Y |     △1 |     △2 |     △3 |      △4 |      △5 |      △6 |      △7 |      △8 |      △9 |     △10 |\n",
      "+--------+--------+--------+--------+---------+---------+---------+---------+---------+---------+---------+\n",
      "| 0.3679 | 0.0387 |  0.004 | 0.0006 | -0.0003 |  0.0006 | -0.0009 |  0.0012 | -0.0014 |  0.0014 | -0.0011 |\n",
      "| 0.4066 | 0.0427 | 0.0046 | 0.0003 |  0.0003 | -0.0003 |  0.0003 | -0.0002 |     0.0 |  0.0003 | -0.0008 |\n",
      "| 0.4493 | 0.0473 | 0.0049 | 0.0006 |     0.0 |     0.0 |  0.0001 | -0.0002 |  0.0003 | -0.0005 |  0.0011 |\n",
      "| 0.4966 | 0.0522 | 0.0055 | 0.0006 |     0.0 |  0.0001 | -0.0001 |  0.0001 | -0.0002 |  0.0006 | -0.0014 |\n",
      "| 0.5488 | 0.0577 | 0.0061 | 0.0006 |  0.0001 |     0.0 |     0.0 | -0.0001 |  0.0004 | -0.0008 |  0.0005 |\n",
      "| 0.6065 | 0.0638 | 0.0067 | 0.0007 |  0.0001 |     0.0 | -0.0001 |  0.0003 | -0.0004 | -0.0003 |  0.0037 |\n",
      "| 0.6703 | 0.0705 | 0.0074 | 0.0008 |  0.0001 | -0.0001 |  0.0002 | -0.0001 | -0.0007 |  0.0034 | -0.0105 |\n",
      "| 0.7408 | 0.0779 | 0.0082 | 0.0009 |     0.0 |  0.0001 |  0.0001 | -0.0008 |  0.0027 | -0.0071 |  0.0163 |\n",
      "| 0.8187 | 0.0861 | 0.0091 | 0.0009 |  0.0001 |  0.0002 | -0.0007 |  0.0019 | -0.0044 |  0.0092 | -0.0181 |\n",
      "| 0.9048 | 0.0952 |   0.01 |  0.001 |  0.0003 | -0.0005 |  0.0012 | -0.0025 |  0.0048 | -0.0089 |  0.0168 |\n",
      "|    1.0 | 0.1052 |  0.011 | 0.0013 | -0.0002 |  0.0007 | -0.0013 |  0.0023 | -0.0041 |  0.0079 | -0.0166 |\n",
      "| 1.1052 | 0.1162 | 0.0123 | 0.0011 |  0.0005 | -0.0006 |   0.001 | -0.0018 |  0.0038 | -0.0087 |     0.0 |\n",
      "| 1.2214 | 0.1285 | 0.0134 | 0.0016 | -0.0001 |  0.0004 | -0.0008 |   0.002 | -0.0049 |     0.0 |     0.0 |\n",
      "| 1.3499 | 0.1419 |  0.015 | 0.0015 |  0.0003 | -0.0004 |  0.0012 | -0.0029 |     0.0 |     0.0 |     0.0 |\n",
      "| 1.4918 | 0.1569 | 0.0165 | 0.0018 | -0.0001 |  0.0008 | -0.0017 |     0.0 |     0.0 |     0.0 |     0.0 |\n",
      "| 1.6487 | 0.1734 | 0.0183 | 0.0017 |  0.0007 | -0.0009 |     0.0 |     0.0 |     0.0 |     0.0 |     0.0 |\n",
      "| 1.8221 | 0.1917 |   0.02 | 0.0024 | -0.0002 |     0.0 |     0.0 |     0.0 |     0.0 |     0.0 |     0.0 |\n",
      "| 2.0138 | 0.2117 | 0.0224 | 0.0022 |     0.0 |     0.0 |     0.0 |     0.0 |     0.0 |     0.0 |     0.0 |\n",
      "| 2.2255 | 0.2341 | 0.0246 |    0.0 |     0.0 |     0.0 |     0.0 |     0.0 |     0.0 |     0.0 |     0.0 |\n",
      "| 2.4596 | 0.2587 |    0.0 |    0.0 |     0.0 |     0.0 |     0.0 |     0.0 |     0.0 |     0.0 |     0.0 |\n",
      "| 2.7183 |    0.0 |    0.0 |    0.0 |     0.0 |     0.0 |     0.0 |     0.0 |     0.0 |     0.0 |     0.0 |\n",
      "+--------+--------+--------+--------+---------+---------+---------+---------+---------+---------+---------+\n"
     ]
    }
   ],
   "source": [
    "def difference_table(x, y, return_delta=False):\n",
    " # Table Definitions:\n",
    "     n = len(x)\n",
    "     dTable = np.zeros((n, n))\n",
    "     dTable[:, 0] = y\n",
    " # Table Layout:\n",
    "     column_names = [\"Y\", \"△1\", \"△2\", \"△3\", \"△4\", \"△5\", \"△6\", \"△7\", \"△8\", \"△9\", \"△10\"]\n",
    "     table = PrettyTable(column_names)\n",
    "     table.align = \"r\"\n",
    " # Generating Forward Difference Table\n",
    "     for i in range(1, n):\n",
    "         for j in range(0, n - i):\n",
    "             dTable[j][i] = round(dTable[j + 1][i - 1] - dTable[j][i - 1], 4)\n",
    " # Output Structure\n",
    "     num_columns = min(dTable.shape[1], 11)\n",
    "     for row in dTable:\n",
    "         row = row[:num_columns].copy()\n",
    "         row.resize((11))\n",
    "         table.add_row(row)\n",
    " # Returns\n",
    "     if not return_delta:\n",
    "         return table\n",
    "     elif return_delta == \"forward\":\n",
    " # Returns n Forward Deltas, default=5\n",
    "         n = min(dTable.shape[1], 5 + 1)\n",
    "         return dTable[0, 1:n]\n",
    "     elif return_delta == \"backward\":\n",
    " # Returns n Backward Deltas, default=5\n",
    "         n = min(dTable.shape[1], 6)\n",
    "         j = 1\n",
    "         del_Y = []\n",
    "         for i in range(dTable.shape[0] - 1, dTable.shape[0] - n, -1):\n",
    "             del_Y.append(dTable[i - 1, j])\n",
    "             j += 1\n",
    "         return del_Y\n",
    "x = np.linspace(-1, 1, 21)\n",
    "y = np.exp(x).round(4)\n",
    "print(difference_table(x,y))"
   ]
  },
  {
   "cell_type": "markdown",
   "metadata": {},
   "source": [
    "## Qn.4 Estimate the value of the function 𝑓(0.21) and 𝑓(0.29) applying Newton’s forward and backward interpolation polynomials using following table: "
   ]
  },
  {
   "cell_type": "markdown",
   "metadata": {},
   "source": [
    "## Forward Interpolation"
   ]
  },
  {
   "cell_type": "code",
   "execution_count": 10,
   "metadata": {},
   "outputs": [
    {
     "name": "stdout",
     "output_type": "stream",
     "text": [
      "f(0.21) = 1.6646027343749996\n",
      "f(0.29) = 1.708149609375\n"
     ]
    }
   ],
   "source": [
    "def forward_interop(x_pred):\n",
    " # Data:\n",
    " x = np.array([0.20, 0.22, 0.24, 0.26, 0.28, 0.30])\n",
    " y = np.array([1.6596, 1.6698, 1.6804, 1.6912, 1.7024, 1.7139])\n",
    " # Calculating h and p:\n",
    " h = x[1] - x[0]\n",
    " p = (x_pred - x[0]) / h\n",
    " # Forward Differences From Table:\n",
    " del_Y = difference_table(x, y, return_delta=\"forward\")\n",
    " # Forward Interpolation Polynomial (upto △ 5)\n",
    " y_pred = (\n",
    "     y[0]\n",
    "     + del_Y[0] * p\n",
    "     + del_Y[1] * p * (p - 1) / math.factorial(2)\n",
    "     + del_Y[2] * p * (p - 1) * (p - 2) / math.factorial(3)\n",
    "     + del_Y[3] * p * (p - 1) * (p - 2) * (p - 3) / math.factorial(4)\n",
    "     + del_Y[4] * p * (p - 1) * (p - 2) * (p - 3) * (p - 4) / math.factorial(5)\n",
    " )\n",
    " return y_pred\n",
    "print(f\"f(0.21) = {forward_interop(0.21)}\")\n",
    "print(f\"f(0.29) = {forward_interop(0.29)}\")"
   ]
  },
  {
   "cell_type": "markdown",
   "metadata": {},
   "source": [
    "## Backward interpolation"
   ]
  },
  {
   "cell_type": "code",
   "execution_count": 11,
   "metadata": {},
   "outputs": [
    {
     "name": "stdout",
     "output_type": "stream",
     "text": [
      "f(0.21) = 1.664602734375\n",
      "f(0.29) = 1.7081496093750002\n"
     ]
    }
   ],
   "source": [
    "def backward_interop(x_pred):\n",
    " # Data:\n",
    " x = np.array([0.20, 0.22, 0.24, 0.26, 0.28, 0.30])\n",
    " y = np.array([1.6596, 1.6698, 1.6804, 1.6912, 1.7024, 1.7139])\n",
    " # Calculating h and p:\n",
    " h = x[1] - x[0]\n",
    " p = (x_pred - x[-1]) / h\n",
    " # Backward Differences From Table:\n",
    " del_Y = difference_table(x, y, return_delta=\"backward\")\n",
    " # Forward Interpolation Polynomial (upto △ 5)\n",
    " y_pred = (\n",
    "        y[-1]\n",
    "        + del_Y[0] * p\n",
    "        + del_Y[1] * p * (p + 1) / math.factorial(2)\n",
    "        + del_Y[2] * p * (p + 1) * (p + 2) / math.factorial(3)\n",
    "        + del_Y[3] * p * (p + 1) * (p + 2) * (p + 3) / math.factorial(4)\n",
    "        + del_Y[4] * p * (p + 1) * (p + 2) * (p + 3) * (p + 4) / math.factorial(5)\n",
    " )\n",
    " return y_pred\n",
    "print(f\"f(0.21) = {backward_interop(0.21)}\")\n",
    "print(f\"f(0.29) = {backward_interop(0.29)}\")"
   ]
  },
  {
   "cell_type": "markdown",
   "metadata": {},
   "source": [
    "## Qn. 5. Estimate 𝑦(2) from the following data using Lagrange’s formula"
   ]
  },
  {
   "cell_type": "code",
   "execution_count": 11,
   "metadata": {},
   "outputs": [
    {
     "name": "stdout",
     "output_type": "stream",
     "text": [
      "Interpolated value at 2.000 is 16.000.\n"
     ]
    }
   ],
   "source": [
    "x = [0,1,3,4,5]\n",
    "y = [0,1,81,256,625]\n",
    "\n",
    "# Reading interpolation point\n",
    "xp = 2\n",
    "\n",
    "# Set interpolated value initially to zero\n",
    "yp = 0\n",
    "\n",
    "# Implementing Lagrange Interpolation\n",
    "for i in range(5):\n",
    "\n",
    "    p = 1\n",
    "\n",
    "    for j in range(5):\n",
    "        if i != j:\n",
    "            p = p * (xp - x[j])/(x[i] - x[j])\n",
    "\n",
    "    yp = yp + p * y[i]    \n",
    "\n",
    "# Displaying output\n",
    "print('Interpolated value at %.3f is %.3f.' % (xp, yp))   "
   ]
  },
  {
   "cell_type": "markdown",
   "metadata": {},
   "source": [
    "## Qn.6) Implement Trapezoidal-rule to approximate the definite integral $\\int_0^𝜋$ $\\frac{sinx}{e^x}$ dx by taking 20-equal divisions of the interval [0, 𝜋]. (Algorithm: 𝑰 =$\\frac{𝒉}{𝟐}[𝒚𝟎 + 𝟐(𝒚𝟏 + 𝒚𝟐 + ⋯ + 𝒚𝒏−𝟏)+ 𝒚𝒏])$   \n"
   ]
  },
  {
   "cell_type": "code",
   "execution_count": 5,
   "metadata": {},
   "outputs": [
    {
     "data": {
      "text/plain": [
       "0.5194637027711455"
      ]
     },
     "execution_count": 5,
     "metadata": {},
     "output_type": "execute_result"
    }
   ],
   "source": [
    "def trapezoidal(fn, a=0, b=1000, num=20):\n",
    " h = float(b - a) / num\n",
    " I = fn(a) + fn(b)\n",
    " for i in range(1, num):\n",
    "    I += 2 * fn(a + (i * h))\n",
    " return (h / 2) * I\n",
    "def function(x):\n",
    "  return np.sin(x)/np.exp(x)\n",
    "trapezoidal(function, a=0, b=np.pi, num=20)"
   ]
  },
  {
   "cell_type": "markdown",
   "metadata": {},
   "source": [
    "## On.7)  Implement Simpson’s 1/3-rule to approximate the definite integral 𝐼 =$sqrt(1/2𝜋)$$\\int_-4^4$ $e^-\\frac{x^2}{2}$dx by taking 50-equal divisions of the interval [−4, 4]. (Algorithm: 𝑰 =$\\frac{𝒉}{𝟑} $[𝒚𝟎 + 𝟒(𝒚𝟏 + 𝒚𝟑 + ⋯ + 𝒚𝒏−𝟏)+𝟐(𝒚𝟐 + 𝒚𝟒 + ⋯ + 𝒚𝒏−𝟐)+ 𝒚𝒏])"
   ]
  },
  {
   "cell_type": "code",
   "execution_count": 11,
   "metadata": {},
   "outputs": [
    {
     "name": "stdout",
     "output_type": "stream",
     "text": [
      "643.7424762150479\n"
     ]
    }
   ],
   "source": [
    "from math import exp, sqrt, pi\n",
    "import numpy as np\n",
    "\n",
    "#taking 50 equall division\n",
    "n= 50  \n",
    "\n",
    "intervals = np.linspace(-4, 4, 51)\n",
    "h = intervals[1] - intervals[0]\n",
    "\n",
    "y = list()\n",
    "for i in intervals:\n",
    "    y.append(sqrt(1/(2*pi)) * exp(i**2/2))\n",
    "\n",
    "odd_sum = np.sum(y[1:-1:2])\n",
    "even_sum = np.sum(y[2:-1:2])\n",
    "I = (h/3)*(y[0]+y[-1]+4*odd_sum+2*even_sum)\n",
    "\n",
    "print(I)\n"
   ]
  },
  {
   "cell_type": "markdown",
   "metadata": {},
   "source": [
    "## Qn.8) Implement Euler’s method to approximate the solution 𝑦(𝑥) of the differential equation $𝑑𝑦/𝑑𝑥= 𝑥^2 +𝑥$, 𝑦(0) = 1 on the interval[0,2] by diving it into 20- equal sub-intervals. [Algorithm: 𝒚𝒊+𝟏 = 𝒚𝒊 +𝒉𝒇(𝒙𝒊,𝒚𝒊)]"
   ]
  },
  {
   "cell_type": "code",
   "execution_count": 6,
   "metadata": {},
   "outputs": [
    {
     "name": "stdout",
     "output_type": "stream",
     "text": [
      "+-----+-------+-------+\n",
      "|   x | slope |     y |\n",
      "+-----+-------+-------+\n",
      "| 0.1 |     0 |   1.0 |\n",
      "| 0.2 |  0.11 | 1.011 |\n",
      "| 0.3 |  0.24 | 1.035 |\n",
      "| 0.4 |  0.39 | 1.074 |\n",
      "| 0.5 |  0.56 |  1.13 |\n",
      "| 0.6 |  0.75 | 1.205 |\n",
      "| 0.7 |  0.96 | 1.301 |\n",
      "| 0.8 |  1.19 |  1.42 |\n",
      "| 0.9 |  1.44 | 1.564 |\n",
      "| 1.0 |  1.71 | 1.735 |\n",
      "| 1.1 |   2.0 | 1.935 |\n",
      "| 1.2 |  2.31 | 2.166 |\n",
      "| 1.3 |  2.64 |  2.43 |\n",
      "| 1.4 |  2.99 | 2.729 |\n",
      "| 1.5 |  3.36 | 3.065 |\n",
      "| 1.6 |  3.75 |  3.44 |\n",
      "| 1.7 |  4.16 | 3.856 |\n",
      "| 1.8 |  4.59 | 4.315 |\n",
      "| 1.9 |  5.04 | 4.819 |\n",
      "| 2.0 |  5.51 |  5.37 |\n",
      "+-----+-------+-------+\n"
     ]
    }
   ],
   "source": [
    "def euler(fn, a, b, y, steps):\n",
    "\n",
    " # Table Layout\n",
    " table = PrettyTable([\"x\", \"slope\", \"y\"])\n",
    " table.align = \"r\"\n",
    " # Step size\n",
    " h = (b - a) / steps\n",
    " # Euler\n",
    " for i in range(steps):\n",
    "     slope = fn(a, y)\n",
    "     y = round(y + h * slope, 4)\n",
    "     a = round(a + h, 4)\n",
    "     table.add_row([a, slope, y])\n",
    " return table\n",
    "def function(x, y):\n",
    "  return np.round(x ** 2 + x, 4)\n",
    "table = euler(function, a=0, b=2, y=1, steps=20)\n",
    "print(table)"
   ]
  },
  {
   "cell_type": "markdown",
   "metadata": {},
   "source": [
    "## Qn 9) Implement Runge-Kutta 2nd order method to approximate the solution 𝑦(𝑥) of the differential equation $𝑑𝑦/𝑑𝑥= 𝑥^2 + 𝑥$, 𝑦(0)=1 on the interval [0, 2] by diving it into 10-equal sub-intervals. [Algorithm:𝒚𝒊+𝟏 = 𝒚𝒊 +𝟏/𝟐(𝒌𝟏 + 𝒌𝟐), 𝒘𝒉𝒆𝒓𝒆 𝒌𝟏 = 𝒉𝒇(𝒙𝟎,𝒚𝟎)𝒂𝒏𝒅 𝒌𝟐= 𝒉𝒇(𝒙𝟎+𝒉,𝒚𝟎+𝒌𝟏)]"
   ]
  },
  {
   "cell_type": "code",
   "execution_count": 7,
   "metadata": {},
   "outputs": [
    {
     "name": "stdout",
     "output_type": "stream",
     "text": [
      "+-----+-------+\n",
      "|   x |     y |\n",
      "+-----+-------+\n",
      "| 0.2 |  1.08 |\n",
      "| 0.4 | 1.232 |\n",
      "| 0.6 | 1.472 |\n",
      "| 0.8 | 1.816 |\n",
      "| 1.0 |  2.28 |\n",
      "| 1.2 |  2.88 |\n",
      "| 1.4 | 3.632 |\n",
      "| 1.6 | 4.552 |\n",
      "| 1.8 | 5.656 |\n",
      "| 2.0 |  6.96 |\n",
      "+-----+-------+\n"
     ]
    }
   ],
   "source": [
    "def runge(fn, x0=0, y0=1, a=0, b=2, intervals=10):\n",
    " # Table Layout\n",
    " table = PrettyTable([\"x\", \"y\"])\n",
    " table.align = \"r\"\n",
    " # Variable Definitions\n",
    " intervals = np.linspace(a, b, intervals + 1)\n",
    " h = intervals[1] - intervals[0]\n",
    " y = [y0]\n",
    " # Runge\n",
    " for x in intervals[1:]:\n",
    "     x0 = x\n",
    "     k1 = h * fn(x0, y[-1])\n",
    "     k2 = h * (fn((x0 + h), (y[-1] + k1)))\n",
    "     yi = y[-1] + 1 / 2 * (k1 + k2)\n",
    "     y.append(yi)\n",
    "     table.add_row([round(x, 4), round(y[-1], 4)])\n",
    " return table\n",
    "def function(x, y):\n",
    "  return np.round(x ** 2 + x, 4)\n",
    "print(runge(function, x0=0, y0=1, a=0, b=2, intervals=10))"
   ]
  },
  {
   "cell_type": "markdown",
   "metadata": {},
   "source": [
    "## Qn 10) Implement the Boundary valued second order differential equation 𝑦\" − 64𝑦′ + 10 = 0 by using finite different method with boundary conditions 𝑦(0)= 𝑦(1) = 0 and taking the step size ℎ =0.1. "
   ]
  },
  {
   "cell_type": "code",
   "execution_count": 5,
   "metadata": {},
   "outputs": [
    {
     "name": "stdout",
     "output_type": "stream",
     "text": [
      "     xi      yi\n",
      "0   0.0     0.0\n",
      "1   0.1  -998.0\n",
      "2   0.2     2.0\n",
      "3   0.3     2.0\n",
      "4   0.4     2.0\n",
      "5   0.5     2.0\n",
      "6   0.6     2.0\n",
      "7   0.7     2.0\n",
      "8   0.8     2.0\n",
      "9   0.9  5302.0\n",
      "10  1.0     0.0\n"
     ]
    },
    {
     "data": {
      "image/png": "[encoded data removed]",
      "text/plain": [
       "<Figure size 432x288 with 1 Axes>"
      ]
     },
     "metadata": {
      "needs_background": "light"
     },
     "output_type": "display_data"
    }
   ],
   "source": [
    "import numpy as np \n",
    "import pandas as pd \n",
    "import matplotlib.pyplot as plt \n",
    "\n",
    "def f(x):\n",
    "    if x == 0:\n",
    "        return 0\n",
    "    elif x == 1:\n",
    "        return 0\n",
    "    else:\n",
    "        return x**2-64*x+10\n",
    "\n",
    "xi = np.arange(0,1.1,0.1)\n",
    "h = 0.1\n",
    "\n",
    "yi = list()\n",
    "yi.append(0)\n",
    "for i in xi[1:-1]:\n",
    "    y = (f(i+h)-2*f(i)+f(i-h))/h**2\n",
    "    yi.append(y)\n",
    "yi.append(0)\n",
    "\n",
    "df = pd.DataFrame()\n",
    "df[\"xi\"]= xi\n",
    "df[\"yi\"] = yi\n",
    "print(df)    \n",
    "\n",
    "plt.plot(xi, yi)\n",
    "plt.title('''Finite different method plot of 2nd order method plot of differential equation y\"-64y'+10=0''')\n",
    "plt.show()\n"
   ]
  },
  {
   "cell_type": "markdown",
   "metadata": {},
   "source": [
    "## Q No. 11 Using least square method to fit the straight line y = a0 + a1x and predicting y=f(2.5)"
   ]
  },
  {
   "cell_type": "code",
   "execution_count": 8,
   "metadata": {},
   "outputs": [
    {
     "data": {
      "text/plain": [
       "3.3361904761904757"
      ]
     },
     "execution_count": 8,
     "metadata": {},
     "output_type": "execute_result"
    }
   ],
   "source": [
    "def linear_predict(x_pred):\n",
    "     x = np.array([1, 2, 3, 4, 5, 6])\n",
    "     y = np.array([2.4, 3.1, 3.5, 4.2, 5.0, 6.0])\n",
    "\n",
    "     # Equation Variables:\n",
    "     a1 = len(x)\n",
    "     b1 = x.sum()\n",
    "     c1 = y.sum()\n",
    "     a2 = x.sum()\n",
    "     b2 = sum(x**2)\n",
    "     c2 = sum(x*y)\n",
    "\n",
    "     # Matrix Representation of equations:\n",
    "     A = np.array([[a1, b1],\n",
    "        [a2, b2]])\n",
    "     b = np.array([c1, c2])\n",
    "\n",
    "     # Solve Equations:\n",
    "     a0, a1 = np.linalg.solve(A, b)\n",
    "\n",
    "     # Predict:\n",
    "     return a0 + (a1 * x_pred)\n",
    "linear_predict(x_pred=2.5)"
   ]
  },
  {
   "cell_type": "markdown",
   "metadata": {},
   "source": [
    "## QNo. 12 Using least square method to fit the curve $y = ae^(bx)$ and estimating y=f(9)"
   ]
  },
  {
   "cell_type": "code",
   "execution_count": 9,
   "metadata": {},
   "outputs": [
    {
     "data": {
      "text/plain": [
       "135.02702592434287"
      ]
     },
     "execution_count": 9,
     "metadata": {},
     "output_type": "execute_result"
    }
   ],
   "source": [
    "def exp_predict(x_pred):\n",
    "\n",
    " # Data:\n",
    " x = np.array([2, 4, 6, 8, 10])\n",
    " y = np.array([4.077, 11.084, 30.128, 81.897, 222.62])\n",
    "\n",
    " # Equation Variables:\n",
    " a1 = len(x)\n",
    " b1 = x.sum()\n",
    " c1 = sum(np.log(y))\n",
    " a2 = x.sum()\n",
    " b2 = sum(x**2)\n",
    " c2 = sum(x*np.log(y))\n",
    "\n",
    " # Matrix Representation of equations:\n",
    " A = np.array([[a1, b1],\n",
    " [a2, b2]])\n",
    " b = np.array([c1, c2])\n",
    "\n",
    " # Solve Equations:\n",
    " a0, a1 = np.linalg.solve(A, b)\n",
    "\n",
    " # Predict:\n",
    " return np.exp(a0) * np.exp(a1 * x_pred)\n",
    "exp_predict(9)"
   ]
  },
  {
   "cell_type": "code",
   "execution_count": null,
   "metadata": {},
   "outputs": [],
   "source": []
  }
 ],
 "metadata": {
  "kernelspec": {
   "display_name": "Python 3",
   "language": "python",
   "name": "python3"
  },
  "language_info": {
   "codemirror_mode": {
    "name": "ipython",
    "version": 3
   },
   "file_extension": ".py",
   "mimetype": "text/x-python",
   "name": "python",
   "nbconvert_exporter": "python",
   "pygments_lexer": "ipython3",
   "version": "3.7.6"
  }
 },
 "nbformat": 4,
 "nbformat_minor": 4
}
